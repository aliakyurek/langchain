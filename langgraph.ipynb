{
 "cells": [
  {
   "cell_type": "markdown",
   "metadata": {},
   "source": [
    "### Environment Setup"
   ]
  },
  {
   "cell_type": "code",
   "execution_count": 188,
   "metadata": {},
   "outputs": [
    {
     "name": "stdout",
     "output_type": "stream",
     "text": [
      "Note: you may need to restart the kernel to use updated packages.\n"
     ]
    },
    {
     "name": "stderr",
     "output_type": "stream",
     "text": [
      "\n",
      "[notice] A new release of pip is available: 24.3.1 -> 25.0\n",
      "[notice] To update, run: python.exe -m pip install --upgrade pip\n"
     ]
    }
   ],
   "source": [
    "%pip install -q -r requirements.txt"
   ]
  },
  {
   "cell_type": "code",
   "execution_count": 189,
   "metadata": {},
   "outputs": [],
   "source": [
    "from dotenv import load_dotenv\n",
    "_ = load_dotenv()"
   ]
  },
  {
   "cell_type": "markdown",
   "metadata": {},
   "source": [
    "In the Basics notebook, we created templates and invoked them and finally feed the result to the LLM. We can make this easier by using Langchain expression language (LCEL) which is very similar to the piping in the Linux shells."
   ]
  },
  {
   "cell_type": "code",
   "execution_count": 190,
   "metadata": {},
   "outputs": [],
   "source": [
    "from langchain_openai import ChatOpenAI\n",
    "\n",
    "llm = ChatOpenAI(model=\"gpt-4o-mini\", temperature=0)"
   ]
  },
  {
   "cell_type": "code",
   "execution_count": 191,
   "metadata": {},
   "outputs": [
    {
     "name": "stdout",
     "output_type": "stream",
     "text": [
      "Hello! I’m an AI language model created by OpenAI. I'm here to assist you with information, answer questions, and engage in conversation. How can I help you today?\n"
     ]
    }
   ],
   "source": [
    "out = llm.invoke(\"Hello, who are you?\")\n",
    "print(out.content)"
   ]
  },
  {
   "cell_type": "markdown",
   "metadata": {},
   "source": [
    "### Basic Graph"
   ]
  },
  {
   "cell_type": "markdown",
   "metadata": {},
   "source": [
    "#### Defining"
   ]
  },
  {
   "cell_type": "markdown",
   "metadata": {},
   "source": [
    "Langgraph allows to define a flow of operations. There can be decision points in it. We'll start with a simple graph."
   ]
  },
  {
   "cell_type": "code",
   "execution_count": 192,
   "metadata": {},
   "outputs": [],
   "source": [
    "from langgraph.graph import Graph, END\n",
    "\n",
    "# define two functions that'll be executed in the graph nodes.\n",
    "# adds \"Hi\" to the input, and returns the result\n",
    "def function_1(input_1):\n",
    "    return input_1 + \" Hi \"\n",
    "\n",
    "# adds \"there\" to the output of previous node, and returns the result\n",
    "def function_2(input_2):\n",
    "    return input_2 + \"there\""
   ]
  },
  {
   "cell_type": "code",
   "execution_count": 193,
   "metadata": {},
   "outputs": [],
   "source": [
    "# define the Langchain graph\n",
    "graph = Graph()\n",
    "\n",
    "# define nodes independent of order\n",
    "graph.add_node(\"node_1\", function_1)\n",
    "graph.add_node(\"node_2\", function_2)\n",
    "\n",
    "# connect nodes using edges\n",
    "graph.add_edge('node_1', 'node_2')\n",
    "\n",
    "# define entry exit\n",
    "graph.set_entry_point(\"node_1\")\n",
    "graph.set_finish_point(\"node_2\")\n",
    "# or graph.add_edge('node_2', END)\n",
    "\n",
    "cg = graph.compile()"
   ]
  },
  {
   "cell_type": "code",
   "execution_count": 194,
   "metadata": {},
   "outputs": [],
   "source": [
    "# visualize the graph\n",
    "from IPython.display import Image, display\n",
    "from langchain_core.runnables.graph import CurveStyle, MermaidDrawMethod, NodeStyles\n",
    "\n",
    "def visualize_langgraph(g):\n",
    "    display(\n",
    "        Image(\n",
    "            g.get_graph().draw_mermaid_png(\n",
    "                draw_method=MermaidDrawMethod.API,\n",
    "            )\n",
    "        )\n",
    "    )"
   ]
  },
  {
   "cell_type": "code",
   "execution_count": 195,
   "metadata": {},
   "outputs": [
    {
     "data": {
      "image/png": "[encoded data removed]",
      "text/plain": [
       "<IPython.core.display.Image object>"
      ]
     },
     "metadata": {},
     "output_type": "display_data"
    }
   ],
   "source": [
    "visualize_langgraph(cg)"
   ]
  },
  {
   "cell_type": "markdown",
   "metadata": {},
   "source": [
    "#### Executing"
   ]
  },
  {
   "cell_type": "markdown",
   "metadata": {},
   "source": [
    "We can run the graph using invoke or node-by-node streaming"
   ]
  },
  {
   "cell_type": "code",
   "execution_count": 196,
   "metadata": {},
   "outputs": [
    {
     "data": {
      "text/plain": [
       "'Hello Hi there'"
      ]
     },
     "execution_count": 196,
     "metadata": {},
     "output_type": "execute_result"
    }
   ],
   "source": [
    "# invoke the graph\n",
    "cg.invoke(\"Hello\")"
   ]
  },
  {
   "cell_type": "code",
   "execution_count": 197,
   "metadata": {},
   "outputs": [
    {
     "name": "stdout",
     "output_type": "stream",
     "text": [
      "Streaming {'node_1': 'Hello Hi '}\n",
      "Streaming {'node_2': 'Hello Hi there'}\n"
     ]
    }
   ],
   "source": [
    "# node by node processing\n",
    "input = 'Hello'\n",
    "for output in cg.stream(input):\n",
    "    print(f\"Streaming {output}\")\n",
    "    # stream() yields dictionaries with output keyed by node name"
   ]
  },
  {
   "cell_type": "markdown",
   "metadata": {},
   "source": [
    "### Adding Decisions"
   ]
  },
  {
   "cell_type": "markdown",
   "metadata": {},
   "source": [
    "Our simple graph does not hold any state, and it doesn't have any decision points. Now we'll build a graph with state and decision points.\n",
    "This graph will process user input and classify it as greeting or question. Depending on the classification, it will respond with a greeting or handle the search."
   ]
  },
  {
   "cell_type": "code",
   "execution_count": 198,
   "metadata": {},
   "outputs": [],
   "source": [
    "from typing import Dict, TypedDict, Optional\n",
    "\n",
    "# this is the structure of state that'll be maintained during the graph flow.\n",
    "# each graph will start with an empty state(dict), and this dictionary will be populated by the return values of each node.\n",
    "# langgraph handles this state management internally.\n",
    "\n",
    "class State(TypedDict):\n",
    "  question: str\n",
    "  classification: str\n",
    "  response: str\n",
    "  dummy: Optional[str] = None # just to show that optional fields, and initial values are supported."
   ]
  },
  {
   "cell_type": "code",
   "execution_count": 199,
   "metadata": {},
   "outputs": [],
   "source": [
    "from langgraph.graph import StateGraph,  END\n",
    "\n",
    "# define the functions that'll be executed in the graph nodes.\n",
    "def handle_greeting(state):\n",
    "    return {\"response\": \"Hello! How can I help you today?\"}\n",
    "\n",
    "def handle_search(state):\n",
    "    question = state.get('question', '').strip()\n",
    "    search_result = f\"Search result for '{question}'\"\n",
    "    return {\"response\": search_result}\n",
    "\n",
    "def classify_input(state):\n",
    "    question = state.get('question', '').strip()\n",
    "    if \"hello\" in question.lower():\n",
    "      classification = \"greeting\"\n",
    "    else:\n",
    "      classification = \"search\"\n",
    "    return {\"classification\": classification}\n",
    "\n",
    "def decide_next(state):\n",
    "    return state.get('classification')"
   ]
  },
  {
   "cell_type": "code",
   "execution_count": 200,
   "metadata": {},
   "outputs": [],
   "source": [
    "# define the Langchain graph\n",
    "graph = StateGraph(State)\n",
    "\n",
    "# the user input goes first to classify_input_node.\n",
    "graph.add_node(\"classify_input_node\", classify_input)\n",
    "graph.add_node(\"greeting_node\", handle_greeting)\n",
    "graph.add_node(\"search_node\", handle_search)\n",
    "\n",
    "# if it's classified as greeting, it goes to greeting_node, else to search_node\n",
    "graph.add_conditional_edges(\n",
    "    \"classify_input_node\",\n",
    "    decide_next,\n",
    "    {\n",
    "        \"greeting\": \"greeting_node\",\n",
    "        \"search\": \"search_node\"\n",
    "    }\n",
    ")\n",
    "# when there are multiple ends, they are set as below\n",
    "graph.set_entry_point(\"classify_input_node\")\n",
    "graph.add_edge(\"greeting_node\", END)\n",
    "graph.add_edge(\"search_node\", END)\n",
    "\n",
    "cg = graph.compile()"
   ]
  },
  {
   "cell_type": "code",
   "execution_count": 201,
   "metadata": {},
   "outputs": [
    {
     "data": {
      "image/png": "[encoded data removed]",
      "text/plain": [
       "<IPython.core.display.Image object>"
      ]
     },
     "metadata": {},
     "output_type": "display_data"
    }
   ],
   "source": [
    "# visualize the graph\n",
    "visualize_langgraph(cg)"
   ]
  },
  {
   "cell_type": "code",
   "execution_count": 202,
   "metadata": {},
   "outputs": [
    {
     "data": {
      "text/plain": [
       "{'question': 'Hello, how are you?',\n",
       " 'classification': 'greeting',\n",
       " 'response': 'Hello! How can I help you today?'}"
      ]
     },
     "execution_count": 202,
     "metadata": {},
     "output_type": "execute_result"
    }
   ],
   "source": [
    "# as the first node expects a question in the state dictionary, we'll pass it as a dictionary\n",
    "cg.invoke({\"question\": \"Hello, how are you?\"})"
   ]
  },
  {
   "cell_type": "code",
   "execution_count": 203,
   "metadata": {},
   "outputs": [
    {
     "data": {
      "text/plain": [
       "{'question': 'Who is Barack Obama?',\n",
       " 'classification': 'search',\n",
       " 'response': \"Search result for 'Who is Barack Obama?'\"}"
      ]
     },
     "execution_count": 203,
     "metadata": {},
     "output_type": "execute_result"
    }
   ],
   "source": [
    "cg.invoke({\"question\": \"Who is Barack Obama?\"})"
   ]
  },
  {
   "cell_type": "markdown",
   "metadata": {},
   "source": [
    "### Adding an LLM"
   ]
  },
  {
   "cell_type": "markdown",
   "metadata": {},
   "source": [
    "Now we'll create a graph with LLM and tools."
   ]
  },
  {
   "cell_type": "code",
   "execution_count": 204,
   "metadata": {},
   "outputs": [],
   "source": [
    "from langchain_openai import ChatOpenAI\n",
    "from langchain.schema.output_parser import StrOutputParser\n",
    "\n",
    "# Set the model as ChatOpenAI\n",
    "llm = ChatOpenAI(model=\"gpt-4o-mini\", temperature=0)"
   ]
  },
  {
   "cell_type": "code",
   "execution_count": 205,
   "metadata": {},
   "outputs": [],
   "source": [
    "from langchain_core.tools import tool\n",
    "\n",
    "@tool\n",
    "def multiply(x: float, y: float) -> float:\n",
    "    \"\"\"Multiply 'x' times 'y'.\"\"\"\n",
    "    return x * y\n",
    "\n",
    "\n",
    "@tool\n",
    "def exponentiate(x: float, y: float) -> float:\n",
    "    \"\"\"Raise 'x' to the 'y'.\"\"\"\n",
    "    return x**y\n",
    "\n",
    "\n",
    "@tool\n",
    "def add(x: float, y: float) -> float:\n",
    "    \"\"\"Add 'x' and 'y'.\"\"\"\n",
    "    return x + y\n",
    "\n",
    "tools = [multiply, exponentiate, add]\n",
    "llm_with_tools = llm.bind_tools(tools)"
   ]
  },
  {
   "cell_type": "code",
   "execution_count": 206,
   "metadata": {},
   "outputs": [],
   "source": [
    "from typing import Annotated, List, TypedDict\n",
    "from langgraph.graph import add_messages\n",
    "\n",
    "# we create a more special state here. As expected it'll have a messages field.\n",
    "# But this field has a special annotation, add_messages, which tells langgraph to append the messages to this list using add_messages function.\n",
    "# which creates a HumanMessage object if the input is a string, and appends it to the list.\n",
    "class AgentState(TypedDict):\n",
    "    messages: Annotated[list, add_messages]"
   ]
  },
  {
   "cell_type": "code",
   "execution_count": 207,
   "metadata": {},
   "outputs": [],
   "source": [
    "def call_model(state):\n",
    "    return {\"messages\": llm_with_tools.invoke(state[\"messages\"])}"
   ]
  },
  {
   "cell_type": "code",
   "execution_count": 208,
   "metadata": {},
   "outputs": [],
   "source": [
    "graph = StateGraph(AgentState)\n",
    "\n",
    "graph.add_node(\"agent\", call_model)\n",
    "graph.add_edge(\"agent\", END)\n",
    "graph.set_entry_point(\"agent\"\n",
    "                      )\n",
    "cg = graph.compile()"
   ]
  },
  {
   "cell_type": "code",
   "execution_count": 209,
   "metadata": {},
   "outputs": [
    {
     "data": {
      "image/png": "[encoded data removed]",
      "text/plain": [
       "<IPython.core.display.Image object>"
      ]
     },
     "metadata": {},
     "output_type": "display_data"
    }
   ],
   "source": [
    "visualize_langgraph(cg)"
   ]
  },
  {
   "cell_type": "code",
   "execution_count": 210,
   "metadata": {},
   "outputs": [],
   "source": [
    "out = cg.invoke({\"messages\": \"what's 3 plus 6\"})"
   ]
  },
  {
   "cell_type": "code",
   "execution_count": 211,
   "metadata": {},
   "outputs": [
    {
     "data": {
      "text/plain": [
       "[HumanMessage(content=\"what's 3 plus 6\", additional_kwargs={}, response_metadata={}, id='daae4cb6-2d9b-451f-a5d8-bb4678e922c7'),\n",
       " AIMessage(content='', additional_kwargs={'tool_calls': [{'id': 'call_nU6QQ8h1H4MI1wsoyJYHwy9U', 'function': {'arguments': '{\"x\":3,\"y\":6}', 'name': 'add'}, 'type': 'function'}], 'refusal': None}, response_metadata={'token_usage': {'completion_tokens': 18, 'prompt_tokens': 107, 'total_tokens': 125, 'completion_tokens_details': {'accepted_prediction_tokens': 0, 'audio_tokens': 0, 'reasoning_tokens': 0, 'rejected_prediction_tokens': 0}, 'prompt_tokens_details': {'audio_tokens': 0, 'cached_tokens': 0}}, 'model_name': 'gpt-4o-mini-2024-07-18', 'system_fingerprint': 'fp_72ed7ab54c', 'finish_reason': 'tool_calls', 'logprobs': None}, id='run-122d0471-090e-4e00-b902-88dc8978eec6-0', tool_calls=[{'name': 'add', 'args': {'x': 3, 'y': 6}, 'id': 'call_nU6QQ8h1H4MI1wsoyJYHwy9U', 'type': 'tool_call'}], usage_metadata={'input_tokens': 107, 'output_tokens': 18, 'total_tokens': 125, 'input_token_details': {'audio': 0, 'cache_read': 0}, 'output_token_details': {'audio': 0, 'reasoning': 0}})]"
      ]
     },
     "execution_count": 211,
     "metadata": {},
     "output_type": "execute_result"
    }
   ],
   "source": [
    "out['messages']"
   ]
  },
  {
   "cell_type": "code",
   "execution_count": 212,
   "metadata": {},
   "outputs": [
    {
     "data": {
      "text/plain": [
       "[{'name': 'add',\n",
       "  'args': {'x': 3, 'y': 6},\n",
       "  'id': 'call_nU6QQ8h1H4MI1wsoyJYHwy9U',\n",
       "  'type': 'tool_call'}]"
      ]
     },
     "execution_count": 212,
     "metadata": {},
     "output_type": "execute_result"
    }
   ],
   "source": [
    "out['messages'][-1].tool_calls"
   ]
  },
  {
   "cell_type": "markdown",
   "metadata": {},
   "source": [
    "### Adding Tool call"
   ]
  },
  {
   "cell_type": "markdown",
   "metadata": {},
   "source": [
    "We'll add the tool call and it's result. There are multiple ways to do it."
   ]
  },
  {
   "cell_type": "markdown",
   "metadata": {},
   "source": [
    "#### Manual"
   ]
  },
  {
   "cell_type": "markdown",
   "metadata": {},
   "source": [
    "We'll manually find the tool and invoke it"
   ]
  },
  {
   "cell_type": "code",
   "execution_count": 213,
   "metadata": {},
   "outputs": [],
   "source": [
    "# create a mapping from tool name to tool object\n",
    "tool_mapping = {tool.name: tool for tool in tools}"
   ]
  },
  {
   "cell_type": "code",
   "execution_count": 214,
   "metadata": {},
   "outputs": [],
   "source": [
    "from langchain_core.messages import ToolMessage\n",
    "\n",
    "def call_tool_manual(state):\n",
    "    last_message = state[\"messages\"][-1]\n",
    "    tool_call = last_message.tool_calls[0]\n",
    "    tool = tool_mapping[tool_call['name']]\n",
    "    # invoke of the tool automatically handles the tool call dictionary\n",
    "    return {\"messages\": tool.invoke(tool_call)}"
   ]
  },
  {
   "cell_type": "code",
   "execution_count": 215,
   "metadata": {},
   "outputs": [],
   "source": [
    "# define the Langchain graph\n",
    "graph = StateGraph(AgentState)\n",
    "\n",
    "graph.add_node(\"llm_node\", call_model)\n",
    "graph.add_node(\"tool_node\", call_tool_manual)\n",
    "graph.add_edge(\"llm_node\", \"tool_node\")\n",
    "graph.add_edge(\"tool_node\", END)\n",
    "graph.set_entry_point(\"llm_node\")\n",
    "\n",
    "cg = graph.compile()"
   ]
  },
  {
   "cell_type": "code",
   "execution_count": 216,
   "metadata": {},
   "outputs": [],
   "source": [
    "out = cg.invoke({\"messages\": \"what's 3 plus 6\"})"
   ]
  },
  {
   "cell_type": "code",
   "execution_count": 217,
   "metadata": {},
   "outputs": [
    {
     "data": {
      "text/plain": [
       "[HumanMessage(content=\"what's 3 plus 6\", additional_kwargs={}, response_metadata={}, id='f0817e09-7810-4600-97e5-e1d60119373b'),\n",
       " AIMessage(content='', additional_kwargs={'tool_calls': [{'id': 'call_YqraV3Aw2EKKkRcXbKMmdT5A', 'function': {'arguments': '{\"x\":3,\"y\":6}', 'name': 'add'}, 'type': 'function'}], 'refusal': None}, response_metadata={'token_usage': {'completion_tokens': 18, 'prompt_tokens': 107, 'total_tokens': 125, 'completion_tokens_details': {'accepted_prediction_tokens': 0, 'audio_tokens': 0, 'reasoning_tokens': 0, 'rejected_prediction_tokens': 0}, 'prompt_tokens_details': {'audio_tokens': 0, 'cached_tokens': 0}}, 'model_name': 'gpt-4o-mini-2024-07-18', 'system_fingerprint': 'fp_72ed7ab54c', 'finish_reason': 'tool_calls', 'logprobs': None}, id='run-0c0a0921-534b-4037-81f2-f6cb3223f937-0', tool_calls=[{'name': 'add', 'args': {'x': 3, 'y': 6}, 'id': 'call_YqraV3Aw2EKKkRcXbKMmdT5A', 'type': 'tool_call'}], usage_metadata={'input_tokens': 107, 'output_tokens': 18, 'total_tokens': 125, 'input_token_details': {'audio': 0, 'cache_read': 0}, 'output_token_details': {'audio': 0, 'reasoning': 0}}),\n",
       " ToolMessage(content='9.0', name='add', id='9d5d6d7e-046c-465c-9b88-929e721ee27d', tool_call_id='call_YqraV3Aw2EKKkRcXbKMmdT5A')]"
      ]
     },
     "execution_count": 217,
     "metadata": {},
     "output_type": "execute_result"
    }
   ],
   "source": [
    "out['messages']"
   ]
  },
  {
   "cell_type": "markdown",
   "metadata": {},
   "source": [
    "#### ToolNode"
   ]
  },
  {
   "cell_type": "markdown",
   "metadata": {},
   "source": [
    "ToolNode is a node that can be used to invoke a tool. We'll use it to invoke the tool. No need to implement a function for tool calling."
   ]
  },
  {
   "cell_type": "code",
   "execution_count": 218,
   "metadata": {},
   "outputs": [],
   "source": [
    "from langgraph.prebuilt import ToolNode\n",
    "\n",
    "tool_node = ToolNode(tools)"
   ]
  },
  {
   "cell_type": "code",
   "execution_count": 219,
   "metadata": {},
   "outputs": [],
   "source": [
    "# define the Langchain graph\n",
    "graph = StateGraph(AgentState)\n",
    "\n",
    "graph.add_node(\"llm_node\", call_model)\n",
    "graph.add_node(\"tool_node\", tool_node)\n",
    "graph.add_edge(\"llm_node\", \"tool_node\")\n",
    "graph.add_edge(\"tool_node\", END)\n",
    "graph.set_entry_point(\"llm_node\")\n",
    "\n",
    "cg = graph.compile()"
   ]
  },
  {
   "cell_type": "code",
   "execution_count": 220,
   "metadata": {},
   "outputs": [],
   "source": [
    "out = cg.invoke({\"messages\": \"what's 3 plus 6\"})"
   ]
  },
  {
   "cell_type": "code",
   "execution_count": 221,
   "metadata": {},
   "outputs": [
    {
     "data": {
      "text/plain": [
       "[HumanMessage(content=\"what's 3 plus 6\", additional_kwargs={}, response_metadata={}, id='c7d2866b-be9a-411e-94f4-7fd0bb13089b'),\n",
       " AIMessage(content='', additional_kwargs={'tool_calls': [{'id': 'call_CVno4OkxIFeewWXzUJgC2h88', 'function': {'arguments': '{\"x\":3,\"y\":6}', 'name': 'add'}, 'type': 'function'}], 'refusal': None}, response_metadata={'token_usage': {'completion_tokens': 18, 'prompt_tokens': 107, 'total_tokens': 125, 'completion_tokens_details': {'accepted_prediction_tokens': 0, 'audio_tokens': 0, 'reasoning_tokens': 0, 'rejected_prediction_tokens': 0}, 'prompt_tokens_details': {'audio_tokens': 0, 'cached_tokens': 0}}, 'model_name': 'gpt-4o-mini-2024-07-18', 'system_fingerprint': 'fp_72ed7ab54c', 'finish_reason': 'tool_calls', 'logprobs': None}, id='run-811e1ba2-4cf4-4ce4-9f51-2c47b8dac0c8-0', tool_calls=[{'name': 'add', 'args': {'x': 3, 'y': 6}, 'id': 'call_CVno4OkxIFeewWXzUJgC2h88', 'type': 'tool_call'}], usage_metadata={'input_tokens': 107, 'output_tokens': 18, 'total_tokens': 125, 'input_token_details': {'audio': 0, 'cache_read': 0}, 'output_token_details': {'audio': 0, 'reasoning': 0}}),\n",
       " ToolMessage(content='9.0', name='add', id='dca2e486-54cf-4a8d-a1a6-17aa12a8791a', tool_call_id='call_CVno4OkxIFeewWXzUJgC2h88')]"
      ]
     },
     "execution_count": 221,
     "metadata": {},
     "output_type": "execute_result"
    }
   ],
   "source": [
    "out['messages']"
   ]
  },
  {
   "cell_type": "markdown",
   "metadata": {},
   "source": [
    "#### Evaluating Result"
   ]
  },
  {
   "cell_type": "markdown",
   "metadata": {},
   "source": [
    "LLM now need to interpret the tool call result. We'll add a node to evaluate the result."
   ]
  },
  {
   "cell_type": "code",
   "execution_count": 222,
   "metadata": {},
   "outputs": [],
   "source": [
    "# define the Langchain graph\n",
    "graph = StateGraph(AgentState)\n",
    "\n",
    "graph.add_node(\"llm_node\", call_model)\n",
    "graph.add_node(\"tool_node\", tool_node)\n",
    "graph.add_node(\"final_node\", call_model)\n",
    "\n",
    "graph.add_edge(\"llm_node\", \"tool_node\")\n",
    "graph.add_edge(\"tool_node\", \"final_node\")\n",
    "graph.add_edge(\"final_node\", END)\n",
    "graph.set_entry_point(\"llm_node\")\n",
    "\n",
    "cg = graph.compile()"
   ]
  },
  {
   "cell_type": "code",
   "execution_count": 223,
   "metadata": {},
   "outputs": [],
   "source": [
    "out = cg.invoke({\"messages\": \"what's 3 plus 6\"})"
   ]
  },
  {
   "cell_type": "code",
   "execution_count": 224,
   "metadata": {},
   "outputs": [
    {
     "data": {
      "text/plain": [
       "'3 plus 6 equals 9.'"
      ]
     },
     "execution_count": 224,
     "metadata": {},
     "output_type": "execute_result"
    }
   ],
   "source": [
    "out['messages'][-1].content"
   ]
  },
  {
   "cell_type": "code",
   "execution_count": null,
   "metadata": {},
   "outputs": [],
   "source": []
  },
  {
   "cell_type": "markdown",
   "metadata": {},
   "source": [
    "### Adding loop"
   ]
  },
  {
   "cell_type": "markdown",
   "metadata": {},
   "source": [
    "Above instead of adding same LLM node multiple times, we can use a loop to repeat the same node multiple times."
   ]
  },
  {
   "cell_type": "code",
   "execution_count": 225,
   "metadata": {},
   "outputs": [],
   "source": [
    "def visit_tool(state):\n",
    "    return \"yes\" if state[\"messages\"][-1].tool_calls else \"no\""
   ]
  },
  {
   "cell_type": "code",
   "execution_count": 226,
   "metadata": {},
   "outputs": [],
   "source": [
    "graph = StateGraph(AgentState)\n",
    "graph.add_node(\"llm_node\", call_model)\n",
    "graph.add_node(\"tool_node\", tool_node)\n",
    "graph.add_conditional_edges(\n",
    "    \"llm_node\",\n",
    "    visit_tool,\n",
    "    {\n",
    "        \"yes\": \"tool_node\",\n",
    "        \"no\": END,\n",
    "    },\n",
    ")\n",
    "graph.add_edge(\"tool_node\", \"llm_node\")\n",
    "graph.set_entry_point(\"llm_node\")\n",
    "cg = graph.compile()"
   ]
  },
  {
   "cell_type": "code",
   "execution_count": 227,
   "metadata": {},
   "outputs": [
    {
     "data": {
      "image/png": "[encoded data removed]",
      "text/plain": [
       "<IPython.core.display.Image object>"
      ]
     },
     "metadata": {},
     "output_type": "display_data"
    }
   ],
   "source": [
    "visualize_langgraph(cg)"
   ]
  },
  {
   "cell_type": "code",
   "execution_count": 228,
   "metadata": {},
   "outputs": [],
   "source": [
    "out = cg.invoke({\"messages\": \"what's 3 plus 6\"})"
   ]
  },
  {
   "cell_type": "code",
   "execution_count": 229,
   "metadata": {},
   "outputs": [
    {
     "data": {
      "text/plain": [
       "'3 plus 6 equals 9.'"
      ]
     },
     "execution_count": 229,
     "metadata": {},
     "output_type": "execute_result"
    }
   ],
   "source": [
    "out['messages'][-1].content"
   ]
  },
  {
   "cell_type": "markdown",
   "metadata": {},
   "source": [
    "### Streaming"
   ]
  },
  {
   "cell_type": "markdown",
   "metadata": {},
   "source": [
    "Previously we only streamed the graph node processing.We need to filter only LLM message content (not tool nodes, not tool call messages etc...)"
   ]
  },
  {
   "cell_type": "code",
   "execution_count": 230,
   "metadata": {},
   "outputs": [
    {
     "name": "stdout",
     "output_type": "stream",
     "text": [
      "3 plus 6 equals 9.\n"
     ]
    }
   ],
   "source": [
    "# filtered node streaming\n",
    "for output in cg.stream({\"messages\": \"what's 3 plus 6\"}):\n",
    "    for k,v in output.items():\n",
    "        # check if this is from llm_node and message has content (not tool call etc)\n",
    "        if k=='llm_node' and v['messages'].content:\n",
    "            print(v['messages'].content)"
   ]
  },
  {
   "cell_type": "markdown",
   "metadata": {},
   "source": [
    "Token streaming is still posibble, but only with async functions."
   ]
  },
  {
   "cell_type": "code",
   "execution_count": 231,
   "metadata": {},
   "outputs": [
    {
     "name": "stdout",
     "output_type": "stream",
     "text": [
      "3 plus 6 equals 9."
     ]
    }
   ],
   "source": [
    "# token streaming\n",
    "async for e in cg.astream_events({\"messages\": \"what's 3 plus 6\"}, version=\"v1\"):\n",
    "    if e[\"event\"] == \"on_chat_model_stream\":\n",
    "        print(e['data']['chunk'].content,end=\"\")"
   ]
  }
 ],
 "metadata": {
  "kernelspec": {
   "display_name": ".venv",
   "language": "python",
   "name": "python3"
  },
  "language_info": {
   "codemirror_mode": {
    "name": "ipython",
    "version": 3
   },
   "file_extension": ".py",
   "mimetype": "text/x-python",
   "name": "python",
   "nbconvert_exporter": "python",
   "pygments_lexer": "ipython3",
   "version": "3.12.7"
  }
 },
 "nbformat": 4,
 "nbformat_minor": 2
}
